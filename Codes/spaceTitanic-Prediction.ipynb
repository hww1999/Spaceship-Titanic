{
 "cells": [
  {
   "cell_type": "code",
   "execution_count": 1,
   "metadata": {},
   "outputs": [],
   "source": [
    "import pandas as pd\n",
    "import numpy as np\n",
    "from xgboost import XGBClassifier\n",
    "from sklearn.ensemble import RandomForestClassifier, AdaBoostClassifier\n",
    "from sklearn.model_selection import train_test_split\n",
    "from sklearn.preprocessing import OneHotEncoder\n",
    "import sklearn.model_selection as skm\n",
    "from sklearn.metrics import confusion_matrix"
   ]
  },
  {
   "cell_type": "code",
   "execution_count": 2,
   "metadata": {},
   "outputs": [],
   "source": [
    "df_train = pd.read_csv('train.csv')"
   ]
  },
  {
   "cell_type": "code",
   "execution_count": 3,
   "metadata": {},
   "outputs": [
    {
     "data": {
      "text/plain": [
       "(8693, 14)"
      ]
     },
     "execution_count": 3,
     "metadata": {},
     "output_type": "execute_result"
    }
   ],
   "source": [
    "df_train.shape"
   ]
  },
  {
   "cell_type": "code",
   "execution_count": 4,
   "metadata": {},
   "outputs": [
    {
     "data": {
      "text/plain": [
       "PassengerId       0\n",
       "HomePlanet      201\n",
       "CryoSleep       217\n",
       "Cabin           199\n",
       "Destination     182\n",
       "Age             179\n",
       "VIP             203\n",
       "RoomService     181\n",
       "FoodCourt       183\n",
       "ShoppingMall    208\n",
       "Spa             183\n",
       "VRDeck          188\n",
       "Name            200\n",
       "Transported       0\n",
       "dtype: int64"
      ]
     },
     "execution_count": 4,
     "metadata": {},
     "output_type": "execute_result"
    }
   ],
   "source": [
    "df_train.isna().sum()\n"
   ]
  },
  {
   "cell_type": "code",
   "execution_count": 5,
   "metadata": {},
   "outputs": [],
   "source": [
    "# cols = list(df_train.columns)[1:7]\n",
    "# print(cols)"
   ]
  },
  {
   "cell_type": "code",
   "execution_count": 6,
   "metadata": {},
   "outputs": [],
   "source": [
    "# idxNa = []\n",
    "\n",
    "# idxNa, _ = np.where(df_train.isna())\n",
    "# idxNa = list(set(idxNa))\n",
    "\n",
    "# idxs = {}\n",
    "# for i in cols:\n",
    "#     idxs[i] = df_train[df_train[i].isna()].index\n",
    "    \n",
    "# naIdx = {}\n",
    "# for col in cols:\n",
    "#     naIdx[col] = [True if idxNa[i] in (idxs[col]) else False for i in range(len(idxNa))]"
   ]
  },
  {
   "cell_type": "code",
   "execution_count": 7,
   "metadata": {},
   "outputs": [],
   "source": [
    "# train - inGroup\n",
    "\n",
    "group = [i[0:4] for i in df_train['PassengerId']]\n",
    "inGroup = [1 if group.count(i) > 1 else 0 for i in group]\n",
    "\n",
    "df_train['PassengerId_inGroup'] = inGroup"
   ]
  },
  {
   "cell_type": "code",
   "execution_count": 8,
   "metadata": {},
   "outputs": [],
   "source": [
    "# train\n",
    "\n",
    "values = {\"RoomService\": 0, \"FoodCourt\": 0, \n",
    "          \"ShoppingMall\": 0, \"Spa\": 0, \"VRDeck\": 0, \"VIP\": False}\n",
    "\n",
    "df_train = df_train.fillna(value=values)"
   ]
  },
  {
   "cell_type": "code",
   "execution_count": 9,
   "metadata": {},
   "outputs": [],
   "source": [
    "# train - totalFee\n",
    "\n",
    "totalFee = df_train['RoomService']+ df_train['FoodCourt']+ df_train['ShoppingMall']+df_train['Spa']+df_train['VRDeck']\n",
    "df_train['totalFee']=totalFee\n",
    "\n",
    "# if totalFee==0 and CryoSleep isna, then set CryoSleep to True, else False"
   ]
  },
  {
   "cell_type": "code",
   "execution_count": 10,
   "metadata": {},
   "outputs": [],
   "source": [
    "ageEuropa = np.mean(df_train['Age'][df_train['HomePlanet']=='Europa'])\n",
    "ageEarth = np.mean(df_train['Age'][df_train['HomePlanet']=='Earth'])\n",
    "ageMars = np.mean(df_train['Age'][df_train['HomePlanet']=='Mars'])"
   ]
  },
  {
   "cell_type": "code",
   "execution_count": 11,
   "metadata": {},
   "outputs": [
    {
     "name": "stderr",
     "output_type": "stream",
     "text": [
      "C:\\Users\\wuron\\AppData\\Local\\Temp\\ipykernel_20016\\3361102049.py:3: UserWarning: Boolean Series key will be reindexed to match DataFrame index.\n",
      "  idxTRAPByFee = df_train[df_train['totalFee']>=1600][df_train['Destination'].isna()].index\n",
      "C:\\Users\\wuron\\AppData\\Local\\Temp\\ipykernel_20016\\3361102049.py:4: UserWarning: Boolean Series key will be reindexed to match DataFrame index.\n",
      "  idxPSOByFee = df_train[df_train['totalFee']<1600][df_train['totalFee']>1000][df_train['Destination'].isna()].index\n",
      "C:\\Users\\wuron\\AppData\\Local\\Temp\\ipykernel_20016\\3361102049.py:5: UserWarning: Boolean Series key will be reindexed to match DataFrame index.\n",
      "  idx55ByFee = df_train[df_train['totalFee']<1000][df_train['Destination'].isna()].index\n"
     ]
    }
   ],
   "source": [
    "# train - destination\n",
    "\n",
    "idxTRAPByFee = df_train[df_train['totalFee']>=1600][df_train['Destination'].isna()].index\n",
    "idxPSOByFee = df_train[df_train['totalFee']<1600][df_train['totalFee']>1000][df_train['Destination'].isna()].index\n",
    "idx55ByFee = df_train[df_train['totalFee']<1000][df_train['Destination'].isna()].index\n",
    "df_train.loc[idxTRAPByFee,['Destination']] = 'TRAPPIST-1e'\n",
    "df_train.loc[idxPSOByFee,['Destination']] = 'PSO J318.5-22'\n",
    "df_train.loc[idx55ByFee,['Destination']] = '55 Cancri e'"
   ]
  },
  {
   "cell_type": "code",
   "execution_count": 12,
   "metadata": {},
   "outputs": [
    {
     "name": "stderr",
     "output_type": "stream",
     "text": [
      "C:\\Users\\wuron\\AppData\\Local\\Temp\\ipykernel_20016\\3202240518.py:3: UserWarning: Boolean Series key will be reindexed to match DataFrame index.\n",
      "  idxCS = df_train[df_train['totalFee']==0][df_train['CryoSleep'].isna()].index\n",
      "C:\\Users\\wuron\\AppData\\Local\\Temp\\ipykernel_20016\\3202240518.py:5: UserWarning: Boolean Series key will be reindexed to match DataFrame index.\n",
      "  idxNCS = df_train[df_train['totalFee']!=0][df_train['CryoSleep'].isna()].index\n"
     ]
    }
   ],
   "source": [
    "# train - cryosleep\n",
    "\n",
    "idxCS = df_train[df_train['totalFee']==0][df_train['CryoSleep'].isna()].index\n",
    "df_train.loc[idxCS,['CryoSleep']] = True\n",
    "idxNCS = df_train[df_train['totalFee']!=0][df_train['CryoSleep'].isna()].index\n",
    "df_train.loc[idxNCS,['CryoSleep']] = False"
   ]
  },
  {
   "cell_type": "code",
   "execution_count": 13,
   "metadata": {},
   "outputs": [],
   "source": [
    "# train - Cabin\n",
    "\n",
    "df_train[['deck','num','side']] = df_train.Cabin.str.split(\"/\",expand=True)\n",
    "df_train = df_train.drop(columns=['Name', 'PassengerId', 'Cabin', 'num'])"
   ]
  },
  {
   "cell_type": "code",
   "execution_count": 14,
   "metadata": {},
   "outputs": [
    {
     "name": "stderr",
     "output_type": "stream",
     "text": [
      "C:\\Users\\wuron\\AppData\\Local\\Temp\\ipykernel_20016\\2244768207.py:9: UserWarning: Boolean Series key will be reindexed to match DataFrame index.\n",
      "  idxDeckABC = df_train[df_train['deck'].isin(['A','B','C','T'])][df_train['HomePlanet'].isna()].index\n",
      "C:\\Users\\wuron\\AppData\\Local\\Temp\\ipykernel_20016\\2244768207.py:11: UserWarning: Boolean Series key will be reindexed to match DataFrame index.\n",
      "  idxDeckEFG = df_train[df_train['deck'].isin(['E','F','G'])][df_train['HomePlanet'].isna()].index\n",
      "C:\\Users\\wuron\\AppData\\Local\\Temp\\ipykernel_20016\\2244768207.py:13: UserWarning: Boolean Series key will be reindexed to match DataFrame index.\n",
      "  idxDeckEFG = df_train[df_train['deck']=='D'][df_train['HomePlanet'].isna()].index\n"
     ]
    }
   ],
   "source": [
    "# from visualization, passengers on decks A, B and C are all from Europa\n",
    "# passengers on deck G are all from Earth\n",
    "# passengers on deck F are from either Earth or Mars\n",
    "# passengers on deck D are most likely from Mars, then Europa\n",
    "# passengers on deck E are most likely from Earth, then Mars, then Europa\n",
    "\n",
    "# train - HomePlant\n",
    "\n",
    "idxDeckABC = df_train[df_train['deck'].isin(['A','B','C','T'])][df_train['HomePlanet'].isna()].index\n",
    "df_train.loc[idxDeckABC,['HomePlanet']] = 'Europa'\n",
    "idxDeckEFG = df_train[df_train['deck'].isin(['E','F','G'])][df_train['HomePlanet'].isna()].index\n",
    "df_train.loc[idxDeckEFG,['HomePlanet']] = 'Earth'\n",
    "idxDeckEFG = df_train[df_train['deck']=='D'][df_train['HomePlanet'].isna()].index\n",
    "df_train.loc[idxDeckEFG,['HomePlanet']] = 'Mars'\n",
    "\n",
    "# idxDeckABC = df_train[df_train['deck'].isin(['A','B','C','T'])][df_train['HomePlanet'].isna()].index\n",
    "# df_train.loc[idxDeckABC,['HomePlanet']] = 'Europa'\n",
    "# idxDeckEFG = df_train[df_train['deck']=='G'][df_train['HomePlanet'].isna()].index # take out E,F\n",
    "# df_train.loc[idxDeckEFG,['HomePlanet']] = 'Earth'\n",
    "# # idxDeckEFG = df_train[df_train['deck']=='D'][df_train['HomePlanet'].isna()].index\n",
    "# # df_train.loc[idxDeckEFG,['HomePlanet']] = 'Mars'"
   ]
  },
  {
   "cell_type": "code",
   "execution_count": 15,
   "metadata": {},
   "outputs": [
    {
     "name": "stderr",
     "output_type": "stream",
     "text": [
      "C:\\Users\\wuron\\AppData\\Local\\Temp\\ipykernel_20016\\332782212.py:7: UserWarning: Boolean Series key will be reindexed to match DataFrame index.\n",
      "  idxEuropaByFee = df_train[df_train['totalFee']>=2000][df_train['HomePlanet'].isna()].index\n",
      "C:\\Users\\wuron\\AppData\\Local\\Temp\\ipykernel_20016\\332782212.py:8: UserWarning: Boolean Series key will be reindexed to match DataFrame index.\n",
      "  idxMarsByFee = df_train[df_train['totalFee']<2000][df_train['RoomService']>=340][df_train['HomePlanet'].isna()].index\n",
      "C:\\Users\\wuron\\AppData\\Local\\Temp\\ipykernel_20016\\332782212.py:9: UserWarning: Boolean Series key will be reindexed to match DataFrame index.\n",
      "  idxEarthByFee = df_train[df_train['totalFee']<2000][df_train['RoomService']<340][df_train['HomePlanet'].isna()].index\n"
     ]
    }
   ],
   "source": [
    "# if totalFee > 2000, then it is likely the Homeplanet is Europa\n",
    "# if totalFee < 2000 & room service > 340, then it is likely the HomePlanet is Mars\n",
    "# if totalFee < 2000 & room service < 340, then it is likely the HomePlanet is Earth\n",
    "\n",
    "# train - HomePlanet\n",
    "\n",
    "idxEuropaByFee = df_train[df_train['totalFee']>=2000][df_train['HomePlanet'].isna()].index\n",
    "idxMarsByFee = df_train[df_train['totalFee']<2000][df_train['RoomService']>=340][df_train['HomePlanet'].isna()].index\n",
    "idxEarthByFee = df_train[df_train['totalFee']<2000][df_train['RoomService']<340][df_train['HomePlanet'].isna()].index\n",
    "df_train.loc[idxEuropaByFee,['HomePlanet']] = 'Europa'\n",
    "df_train.loc[idxMarsByFee,['HomePlanet']] = 'Mars'\n",
    "df_train.loc[idxEarthByFee,['HomePlanet']] = 'Earth'"
   ]
  },
  {
   "cell_type": "code",
   "execution_count": 16,
   "metadata": {},
   "outputs": [
    {
     "name": "stderr",
     "output_type": "stream",
     "text": [
      "C:\\Users\\wuron\\AppData\\Local\\Temp\\ipykernel_20016\\3708677144.py:3: UserWarning: Boolean Series key will be reindexed to match DataFrame index.\n",
      "  idxAgeEarth = df_train[df_train['HomePlanet']=='Earth'][df_train['Age'].isna()].index\n",
      "C:\\Users\\wuron\\AppData\\Local\\Temp\\ipykernel_20016\\3708677144.py:4: UserWarning: Boolean Series key will be reindexed to match DataFrame index.\n",
      "  idxAgeEuropa = df_train[df_train['HomePlanet']=='Europa'][df_train['Age'].isna()].index\n",
      "C:\\Users\\wuron\\AppData\\Local\\Temp\\ipykernel_20016\\3708677144.py:5: UserWarning: Boolean Series key will be reindexed to match DataFrame index.\n",
      "  idxAgeMars = df_train[df_train['HomePlanet']=='Mars'][df_train['Age'].isna()].index\n"
     ]
    }
   ],
   "source": [
    "# train - Age\n",
    "\n",
    "idxAgeEarth = df_train[df_train['HomePlanet']=='Earth'][df_train['Age'].isna()].index\n",
    "idxAgeEuropa = df_train[df_train['HomePlanet']=='Europa'][df_train['Age'].isna()].index\n",
    "idxAgeMars = df_train[df_train['HomePlanet']=='Mars'][df_train['Age'].isna()].index\n",
    "df_train.loc[idxAgeEarth,['Age']] = int(np.floor(ageEarth))\n",
    "df_train.loc[idxAgeEuropa,['Age']] = int(np.floor(ageEuropa))\n",
    "df_train.loc[idxAgeMars,['Age']] = int(np.floor(ageMars))"
   ]
  },
  {
   "cell_type": "code",
   "execution_count": 17,
   "metadata": {},
   "outputs": [
    {
     "name": "stderr",
     "output_type": "stream",
     "text": [
      "C:\\Users\\wuron\\AppData\\Local\\Temp\\ipykernel_20016\\3936988800.py:3: UserWarning: Boolean Series key will be reindexed to match DataFrame index.\n",
      "  idxEarth = df_train[df_train['HomePlanet']=='Earth'][df_train['deck'].isna()].index\n",
      "C:\\Users\\wuron\\AppData\\Local\\Temp\\ipykernel_20016\\3936988800.py:5: UserWarning: Boolean Series key will be reindexed to match DataFrame index.\n",
      "  idxEuropa = df_train[df_train['HomePlanet']=='Europa'][df_train['deck'].isna()].index\n",
      "C:\\Users\\wuron\\AppData\\Local\\Temp\\ipykernel_20016\\3936988800.py:7: UserWarning: Boolean Series key will be reindexed to match DataFrame index.\n",
      "  idxMars = df_train[df_train['HomePlanet']=='Mars'][df_train['deck'].isna()].index\n"
     ]
    }
   ],
   "source": [
    "# train - deck\n",
    "\n",
    "idxEarth = df_train[df_train['HomePlanet']=='Earth'][df_train['deck'].isna()].index\n",
    "df_train.loc[idxEarth,['deck']] = 'G'\n",
    "idxEuropa = df_train[df_train['HomePlanet']=='Europa'][df_train['deck'].isna()].index\n",
    "df_train.loc[idxEuropa,['deck']] = 'B'\n",
    "idxMars = df_train[df_train['HomePlanet']=='Mars'][df_train['deck'].isna()].index\n",
    "df_train.loc[idxMars,['deck']] = 'F'\n",
    "\n",
    "# idxEarthBelow26 = df_train[df_train['HomePlanet']=='Earth'][df_train['Age']<=26][df_train['deck'].isna()].index\n",
    "# df_train.loc[idxEarthBelow26,['deck']] = 'G'\n",
    "# idxEarthAbove26 = df_train[df_train['HomePlanet']=='Earth'][df_train['Age']>26][df_train['deck'].isna()].index\n",
    "# df_train.loc[idxEarthAbove26,['deck']] = 'F'\n",
    "# idxEuropaAbove500 = df_train[df_train['HomePlanet']=='Europa'][df_train['VRDeck']>500][df_train['deck'].isna()].index\n",
    "# df_train.loc[idxEuropaAbove500,['deck']] = 'B' # could be A,B or C\n",
    "# idxEuropaBelow500 = df_train[df_train['HomePlanet']=='Europa'][df_train['VRDeck']<=500][df_train['deck'].isna()].index\n",
    "# df_train.loc[idxEuropaBelow500,['deck']] = 'E' # could be D or E\n",
    "# idxMarsAbove30 = df_train[df_train['HomePlanet']=='Mars'][df_train['Age']>=30][df_train['deck'].isna()].index\n",
    "# df_train.loc[idxMarsAbove30,['deck']] = 'D'\n",
    "# idxMarsBelow30 = df_train[df_train['HomePlanet']=='Mars'][df_train['Age']<30][df_train['deck'].isna()].index\n",
    "# df_train.loc[idxMarsBelow30,['deck']] = 'F'"
   ]
  },
  {
   "cell_type": "code",
   "execution_count": 18,
   "metadata": {},
   "outputs": [
    {
     "name": "stderr",
     "output_type": "stream",
     "text": [
      "C:\\Users\\wuron\\AppData\\Local\\Temp\\ipykernel_20016\\3273352895.py:3: UserWarning: Boolean Series key will be reindexed to match DataFrame index.\n",
      "  idxSideP = df_train[df_train['deck'].isin(['A','B','C','E','G'])][df_train['side'].isna()].index\n",
      "C:\\Users\\wuron\\AppData\\Local\\Temp\\ipykernel_20016\\3273352895.py:5: UserWarning: Boolean Series key will be reindexed to match DataFrame index.\n",
      "  idxSideS = df_train[df_train['deck'].isin(['D','F','T'])][df_train['side'].isna()].index\n"
     ]
    }
   ],
   "source": [
    "# train - side\n",
    "\n",
    "idxSideP = df_train[df_train['deck'].isin(['A','B','C','E','G'])][df_train['side'].isna()].index\n",
    "df_train.loc[idxSideP,['side']] = 'P'\n",
    "idxSideS = df_train[df_train['deck'].isin(['D','F','T'])][df_train['side'].isna()].index\n",
    "df_train.loc[idxSideS,['side']] = 'S'"
   ]
  },
  {
   "cell_type": "code",
   "execution_count": 19,
   "metadata": {},
   "outputs": [],
   "source": [
    "# train\n",
    "\n",
    "df_train['isPort'] = [1 if i=='P' else 0 for i in df_train['side']]\n",
    "df_train['isVIP'] = [1 if i=='True' else 0 for i in df_train['VIP']]\n",
    "df_train['isCryoSleep'] = [1 if i=='True' else 0 for i in df_train['CryoSleep']]\n",
    "df_train['fromEuropa'] = [1 if i=='Europa' else 0 for i in df_train['HomePlanet']]\n",
    "df_train['to55'] = [1 if i=='55 Cancri e' else 0 for i in df_train['Destination']]\n",
    "df_train['SPA200'] = [1 if i>=200 else 0 for i in df_train['Spa']]"
   ]
  },
  {
   "cell_type": "code",
   "execution_count": 20,
   "metadata": {},
   "outputs": [],
   "source": [
    "# train\n",
    "\n",
    "X=df_train.drop(columns=['side', 'VIP', 'CryoSleep'])\n",
    "# df_train_drop = df_train_drop.dropna()\n",
    "# df_train_drop = df_train_drop.reset_index()\n",
    "# df_train_drop = df_train_drop.drop(columns=['index'])"
   ]
  },
  {
   "cell_type": "code",
   "execution_count": 21,
   "metadata": {},
   "outputs": [],
   "source": [
    "# remove insignificant columns\n",
    "# from df_train_drop changed to X\n",
    "# X = df_train_drop.drop(columns=['FoodCourt', 'ShoppingMall', 'Spa'])"
   ]
  },
  {
   "cell_type": "code",
   "execution_count": 22,
   "metadata": {},
   "outputs": [],
   "source": [
    "enc = OneHotEncoder(handle_unknown='ignore')\n",
    "enc.fit(np.array(X['Destination']).reshape(-1, 1))\n",
    "X[['Destination_0','Destination_1','Destination_2']] = enc.transform(np.array(X['Destination']).reshape(-1, 1)).toarray()"
   ]
  },
  {
   "cell_type": "code",
   "execution_count": 23,
   "metadata": {},
   "outputs": [],
   "source": [
    "enc = OneHotEncoder(handle_unknown='ignore')\n",
    "enc.fit(np.array(X['HomePlanet']).reshape(-1, 1))\n",
    "X[['HomePlanet_0','HomePlanet_1','HomePlanet_2']] = enc.transform(np.array(X['HomePlanet']).reshape(-1, 1)).toarray()"
   ]
  },
  {
   "cell_type": "code",
   "execution_count": 24,
   "metadata": {},
   "outputs": [],
   "source": [
    "enc = OneHotEncoder(handle_unknown='ignore')\n",
    "enc.fit(np.array(X['deck']).reshape(-1, 1))\n",
    "X[['deck_0','deck_1','deck_2','deck_3','deck_4','deck_5','deck_6','deck_7']] = enc.transform(np.array(X['deck']).reshape(-1, 1)).toarray()"
   ]
  },
  {
   "cell_type": "code",
   "execution_count": 25,
   "metadata": {},
   "outputs": [],
   "source": [
    "# X_valid = X.loc[idxNa]\n",
    "# y_valid = X_valid['Transported']\n",
    "# X_valid = X_valid.reset_index()\n",
    "# X_valid = X_valid.drop(columns=['Transported', 'index', 'Destination', 'HomePlanet', 'deck'])\n",
    "# # print(X_valid)\n",
    "\n",
    "# X_train = X.drop(idxNa)\n",
    "# y_train = X_train['Transported']\n",
    "# X_train = X_train.reset_index()\n",
    "# X_train = X_train.drop(columns=['Transported', 'index', 'Destination', 'HomePlanet', 'deck'])\n",
    "# # print(X_train)\n"
   ]
  },
  {
   "cell_type": "code",
   "execution_count": 26,
   "metadata": {},
   "outputs": [],
   "source": [
    "y = X['Transported']\n",
    "X = X.drop(columns=['Transported'])\n",
    "X = X.drop(columns=['Destination', 'HomePlanet', 'deck'])\n"
   ]
  },
  {
   "cell_type": "code",
   "execution_count": 27,
   "metadata": {},
   "outputs": [],
   "source": [
    "X_train, X_valid, y_train, y_valid = train_test_split(X, y, test_size = 0.2, random_state=2)\n",
    "\n",
    "#-----------------------------------------CV--------------------------------------------\n",
    "# kfold = skm.KFold(10,\n",
    "#               random_state=1,\n",
    "#               shuffle=True)\n",
    "# # xgb params booster='gbtree', alpha=6, eta=0.1, gamma=0, lambda=1, learning_rate=0.01, n_estimators=1000, reg_alpha=0, reg_lambda=10,subsample=0.8\n",
    "# parameters = {'n_estimators':[1000,900,1200]}\n",
    "# rf_cv = XGBClassifier(booster='gbtree', alpha=6, gamma=0,colsample_bytree=0.5, \n",
    "#                       learning_rate=0.01, reg_alpha=0, n_estimators=900,\n",
    "#                       reg_lambda=5, subsample=0.8, max_depth=6)\n",
    "\n",
    "# # rfc params\n",
    "# # parameters = {'n_estimators':list(np.arange(140,160,4)),\n",
    "# #              'ccp_alpha':[0.1,0.01]}\n",
    "# # rf_cv = RandomForestClassifier(random_state=1, criterion='entropy', max_features=4)\n",
    "\n",
    "# # adaboost params\n",
    "# # parameters = {'learning_rate':[0.1, 0.2, 0.5, 1], \n",
    "# #               'n_estimators':list(np.arange(50,200,50))}\n",
    "\n",
    "# grid = skm.GridSearchCV(rf_cv,\n",
    "#                         parameters,\n",
    "#                         refit = True,\n",
    "#                         cv=kfold,\n",
    "#                         scoring='accuracy')\n",
    "# grid.fit(X_train, y_train)\n",
    "# # RFC.fit(X, y)\n",
    "# RFC = grid.best_estimator_\n",
    "#-----------------------------------------CV--------------------------------------------\n",
    "# RFC = XGBClassifier(booster='gbtree', alpha=6, gamma=0,colsample_bytree=0.5, \n",
    "#                       learning_rate=0.01, reg_alpha=0, n_estimators=900,\n",
    "#                       reg_lambda=5, subsample=0.8, max_depth=6)\n",
    "# RFC.fit(X,y)\n",
    "# RFC.fit(X_train, y_train)\n",
    "# pred_valid = RFC.predict(X_valid).tolist()\n",
    "# pred_train = RFC.predict(X_train).tolist()\n",
    "\n",
    "# y_train = y_train.tolist()\n",
    "# y_valid = y_valid.tolist()\n",
    "# print(RFC)"
   ]
  },
  {
   "cell_type": "code",
   "execution_count": 28,
   "metadata": {},
   "outputs": [],
   "source": [
    "# X_train, X_valid, y_train, y_valid = train_test_split(X, y, test_size = 0.2)\n",
    "# # # RFC = AdaBoostClassifier(learning_rate=1, n_estimators=160, random_state=1)\n",
    "# # RFC = RandomForestClassifier(max_features=4, n_estimators=144, criterion='gini',ccp_alpha=0.0008)\n",
    "# RFC = XGBClassifier()\n",
    "# RFC.fit(X_train, y_train)\n",
    "\n",
    "# pred_valid = RFC.predict(X_valid).tolist()\n",
    "# pred_train = RFC.predict(X_train).tolist()\n",
    "\n",
    "# y_train = y_train.tolist()\n",
    "# y_valid = y_valid.tolist()"
   ]
  },
  {
   "cell_type": "code",
   "execution_count": 29,
   "metadata": {},
   "outputs": [],
   "source": [
    "# cnt_train = 0\n",
    "# for i in range(len(y_train)):\n",
    "#     if y_train[i]==pred_train[i]:\n",
    "#         cnt_train += 1\n",
    "# cnt_valid = 0      \n",
    "# for i in range(len(y_valid)):\n",
    "#     if y_valid[i]==pred_valid[i]:\n",
    "#         cnt_valid += 1\n",
    "\n",
    "# print('Accuracy of training data set: ' + str(cnt_train / len(y_train)))\n",
    "# print('Accuracy of validation data set: ' + str(cnt_valid / len(y_valid)))\n",
    "\n",
    "# # Accuracy of training data set: 0.8360655737704918\n",
    "# # Accuracy of validation data set: 0.8131109833237493 -- use all features and tuned params\n",
    "# # Accuracy of training data set: 0.9115616911130284\n",
    "# # Accuracy of validation data set: 0.8033352501437608 -- use all features, no tuned params"
   ]
  },
  {
   "cell_type": "code",
   "execution_count": 30,
   "metadata": {},
   "outputs": [],
   "source": [
    "# confusion_matrix(y_train, pred_train)"
   ]
  },
  {
   "cell_type": "code",
   "execution_count": 31,
   "metadata": {},
   "outputs": [],
   "source": [
    "# confusion_matrix(y_valid, pred_valid)"
   ]
  },
  {
   "cell_type": "code",
   "execution_count": 32,
   "metadata": {},
   "outputs": [],
   "source": [
    "# accuracy = [y_valid[i]==pred_valid[i] for i in range(len(y_valid))]\n",
    "# check = pd.DataFrame()\n",
    "# check['idx'] = list(idxNa)\n",
    "# check['y_valid'] = list(y_valid)\n",
    "# check['pred_valid'] = list(pred_valid)\n",
    "# check['acc'] = accuracy\n",
    "# for col in cols:\n",
    "#     check[col] = naIdx[col]\n",
    "# check.to_csv('check_acc.csv',index=False)"
   ]
  },
  {
   "cell_type": "code",
   "execution_count": 33,
   "metadata": {},
   "outputs": [
    {
     "name": "stdout",
     "output_type": "stream",
     "text": [
      "Accuracy of full data set: 0.8345795467617624\n",
      "[[3491  824]\n",
      " [ 614 3764]]\n"
     ]
    }
   ],
   "source": [
    "# RFC = AdaBoostClassifier(learning_rate=1, n_estimators=100, random_state=1)\n",
    "# RFC = RandomForestClassifier(max_features=4, n_estimators=144, criterion='entropy',ccp_alpha=0.0005)\n",
    "RFC = XGBClassifier()\n",
    "RFC = XGBClassifier(booster='gbtree', alpha=6, gamma=0,colsample_bytree=0.5, \n",
    "                      learning_rate=0.01, reg_alpha=0, n_estimators=900,\n",
    "                      reg_lambda=5, subsample=0.8, max_depth=6)\n",
    "\n",
    "RFC.fit(X, y)\n",
    "pred = RFC.predict(X).tolist()\n",
    "pred = [True if i==1 else False for i in pred]\n",
    "y = y.tolist()\n",
    "cnt = 0\n",
    "for i in range(len(y)):\n",
    "    if y[i]==pred[i]:\n",
    "        cnt += 1\n",
    "        \n",
    "print('Accuracy of full data set: ' + str(cnt / len(y)))\n",
    "print(confusion_matrix(y, pred))"
   ]
  },
  {
   "cell_type": "markdown",
   "metadata": {},
   "source": [
    "### test dataset"
   ]
  },
  {
   "cell_type": "code",
   "execution_count": 34,
   "metadata": {},
   "outputs": [],
   "source": [
    "df_test = pd.read_csv('test.csv')"
   ]
  },
  {
   "cell_type": "code",
   "execution_count": 35,
   "metadata": {},
   "outputs": [],
   "source": [
    "# test 0 inGroup\n",
    "psgid = df_test['PassengerId']\n",
    "group = [i[0:4] for i in df_test['PassengerId']]\n",
    "inGroup = [1 if group.count(i) > 1 else 0 for i in group]\n",
    "\n",
    "df_test['PassengerId_inGroup'] = inGroup"
   ]
  },
  {
   "cell_type": "code",
   "execution_count": 36,
   "metadata": {},
   "outputs": [],
   "source": [
    "# test\n",
    "\n",
    "values = {\"RoomService\": 0, \"FoodCourt\": 0, \n",
    "          \"ShoppingMall\": 0, \"Spa\": 0, \"VRDeck\": 0, \"VIP\": False}\n",
    "\n",
    "df_test = df_test.fillna(value=values)"
   ]
  },
  {
   "cell_type": "code",
   "execution_count": 37,
   "metadata": {},
   "outputs": [],
   "source": [
    "# test - totalFee\n",
    "\n",
    "totalFee = df_test['RoomService']+ df_test['FoodCourt']+ df_test['ShoppingMall']+df_test['Spa']+df_test['VRDeck']\n",
    "df_test['totalFee']=totalFee\n",
    "\n",
    "# if totalFee==0 and CryoSleep isna, then set CryoSleep to True, else False"
   ]
  },
  {
   "cell_type": "code",
   "execution_count": 38,
   "metadata": {},
   "outputs": [
    {
     "name": "stderr",
     "output_type": "stream",
     "text": [
      "C:\\Users\\wuron\\AppData\\Local\\Temp\\ipykernel_20016\\1661410121.py:3: UserWarning: Boolean Series key will be reindexed to match DataFrame index.\n",
      "  idxTRAPByFee = df_test[df_test['totalFee']>=1600][df_test['Destination'].isna()].index\n",
      "C:\\Users\\wuron\\AppData\\Local\\Temp\\ipykernel_20016\\1661410121.py:4: UserWarning: Boolean Series key will be reindexed to match DataFrame index.\n",
      "  idxPSOByFee = df_test[df_test['totalFee']<1600][df_test['totalFee']>1000][df_test['Destination'].isna()].index\n",
      "C:\\Users\\wuron\\AppData\\Local\\Temp\\ipykernel_20016\\1661410121.py:5: UserWarning: Boolean Series key will be reindexed to match DataFrame index.\n",
      "  idx55ByFee = df_test[df_test['totalFee']<1000][df_test['Destination'].isna()].index\n"
     ]
    }
   ],
   "source": [
    "# test - destination\n",
    "\n",
    "idxTRAPByFee = df_test[df_test['totalFee']>=1600][df_test['Destination'].isna()].index\n",
    "idxPSOByFee = df_test[df_test['totalFee']<1600][df_test['totalFee']>1000][df_test['Destination'].isna()].index\n",
    "idx55ByFee = df_test[df_test['totalFee']<1000][df_test['Destination'].isna()].index\n",
    "df_test.loc[idxTRAPByFee,['Destination']] = 'TRAPPIST-1e'\n",
    "df_test.loc[idxPSOByFee,['Destination']] = 'PSO J318.5-22'\n",
    "df_test.loc[idx55ByFee,['Destination']] = '55 Cancri e'"
   ]
  },
  {
   "cell_type": "code",
   "execution_count": 39,
   "metadata": {},
   "outputs": [
    {
     "name": "stderr",
     "output_type": "stream",
     "text": [
      "C:\\Users\\wuron\\AppData\\Local\\Temp\\ipykernel_20016\\307260986.py:3: UserWarning: Boolean Series key will be reindexed to match DataFrame index.\n",
      "  idxCS = df_test[df_test['totalFee']==0][df_test['CryoSleep'].isna()].index\n",
      "C:\\Users\\wuron\\AppData\\Local\\Temp\\ipykernel_20016\\307260986.py:5: UserWarning: Boolean Series key will be reindexed to match DataFrame index.\n",
      "  idxNCS = df_test[df_test['totalFee']!=0][df_test['CryoSleep'].isna()].index\n"
     ]
    }
   ],
   "source": [
    "# test - cryosleep\n",
    "\n",
    "idxCS = df_test[df_test['totalFee']==0][df_test['CryoSleep'].isna()].index\n",
    "df_test.loc[idxCS,['CryoSleep']] = True\n",
    "idxNCS = df_test[df_test['totalFee']!=0][df_test['CryoSleep'].isna()].index\n",
    "df_test.loc[idxNCS,['CryoSleep']] = False"
   ]
  },
  {
   "cell_type": "code",
   "execution_count": 40,
   "metadata": {},
   "outputs": [],
   "source": [
    "# test - Cabin\n",
    "\n",
    "df_test[['deck','num','side']] = df_test.Cabin.str.split(\"/\",expand=True)\n",
    "df_test = df_test.drop(columns=['Name', 'PassengerId', 'Cabin', 'num'])"
   ]
  },
  {
   "cell_type": "code",
   "execution_count": 41,
   "metadata": {},
   "outputs": [
    {
     "name": "stderr",
     "output_type": "stream",
     "text": [
      "C:\\Users\\wuron\\AppData\\Local\\Temp\\ipykernel_20016\\2542191232.py:3: UserWarning: Boolean Series key will be reindexed to match DataFrame index.\n",
      "  idxDeckABC = df_test[df_test['deck'].isin(['A','B','C','T'])][df_test['HomePlanet'].isna()].index\n",
      "C:\\Users\\wuron\\AppData\\Local\\Temp\\ipykernel_20016\\2542191232.py:5: UserWarning: Boolean Series key will be reindexed to match DataFrame index.\n",
      "  idxDeckEFG = df_test[df_test['deck'].isin(['E','F','G'])][df_test['HomePlanet'].isna()].index\n",
      "C:\\Users\\wuron\\AppData\\Local\\Temp\\ipykernel_20016\\2542191232.py:7: UserWarning: Boolean Series key will be reindexed to match DataFrame index.\n",
      "  idxDeckEFG = df_test[df_test['deck']=='D'][df_test['HomePlanet'].isna()].index\n"
     ]
    }
   ],
   "source": [
    "# test - HomePlanet\n",
    "\n",
    "idxDeckABC = df_test[df_test['deck'].isin(['A','B','C','T'])][df_test['HomePlanet'].isna()].index\n",
    "df_test.loc[idxDeckABC,['HomePlanet']] = 'Europa'\n",
    "idxDeckEFG = df_test[df_test['deck'].isin(['E','F','G'])][df_test['HomePlanet'].isna()].index\n",
    "df_test.loc[idxDeckEFG,['HomePlanet']] = 'Earth'\n",
    "idxDeckEFG = df_test[df_test['deck']=='D'][df_test['HomePlanet'].isna()].index\n",
    "df_test.loc[idxDeckEFG,['HomePlanet']] = 'Mars'\n",
    "\n",
    "# idxDeckABC = df_test[df_test['deck'].isin(['A','B','C','T'])][df_test['HomePlanet'].isna()].index\n",
    "# df_test.loc[idxDeckABC,['HomePlanet']] = 'Europa'\n",
    "# idxDeckEFG = df_test[df_test['deck']=='G'][df_test['HomePlanet'].isna()].index # take out E,F\n",
    "# df_test.loc[idxDeckEFG,['HomePlanet']] = 'Earth'\n",
    "# # idxDeckEFG = df_train[df_train['deck']=='D'][df_train['HomePlanet'].isna()].index\n",
    "# # df_train.loc[idxDeckEFG,['HomePlanet']] = 'Mars'"
   ]
  },
  {
   "cell_type": "code",
   "execution_count": 42,
   "metadata": {},
   "outputs": [
    {
     "name": "stderr",
     "output_type": "stream",
     "text": [
      "C:\\Users\\wuron\\AppData\\Local\\Temp\\ipykernel_20016\\1704111286.py:3: UserWarning: Boolean Series key will be reindexed to match DataFrame index.\n",
      "  idxEuropaByFee = df_test[df_test['totalFee']>=2000][df_test['HomePlanet'].isna()].index\n",
      "C:\\Users\\wuron\\AppData\\Local\\Temp\\ipykernel_20016\\1704111286.py:4: UserWarning: Boolean Series key will be reindexed to match DataFrame index.\n",
      "  idxMarsByFee = df_test[df_test['totalFee']<2000][df_test['RoomService']>=340][df_test['HomePlanet'].isna()].index\n",
      "C:\\Users\\wuron\\AppData\\Local\\Temp\\ipykernel_20016\\1704111286.py:5: UserWarning: Boolean Series key will be reindexed to match DataFrame index.\n",
      "  idxEarthByFee = df_test[df_test['totalFee']<2000][df_test['RoomService']<340][df_test['HomePlanet'].isna()].index\n"
     ]
    }
   ],
   "source": [
    "# test - HomePlanet\n",
    "\n",
    "idxEuropaByFee = df_test[df_test['totalFee']>=2000][df_test['HomePlanet'].isna()].index\n",
    "idxMarsByFee = df_test[df_test['totalFee']<2000][df_test['RoomService']>=340][df_test['HomePlanet'].isna()].index\n",
    "idxEarthByFee = df_test[df_test['totalFee']<2000][df_test['RoomService']<340][df_test['HomePlanet'].isna()].index\n",
    "df_test.loc[idxEuropaByFee,['HomePlanet']] = 'Europa'\n",
    "df_test.loc[idxMarsByFee,['HomePlanet']] = 'Mars'\n",
    "df_test.loc[idxEarthByFee,['HomePlanet']] = 'Earth'"
   ]
  },
  {
   "cell_type": "code",
   "execution_count": 43,
   "metadata": {},
   "outputs": [
    {
     "name": "stderr",
     "output_type": "stream",
     "text": [
      "C:\\Users\\wuron\\AppData\\Local\\Temp\\ipykernel_20016\\4194361286.py:3: UserWarning: Boolean Series key will be reindexed to match DataFrame index.\n",
      "  idxAgeEarth = df_test[df_test['HomePlanet']=='Earth'][df_test['Age'].isna()].index\n",
      "C:\\Users\\wuron\\AppData\\Local\\Temp\\ipykernel_20016\\4194361286.py:4: UserWarning: Boolean Series key will be reindexed to match DataFrame index.\n",
      "  idxAgeEuropa = df_test[df_test['HomePlanet']=='Europa'][df_test['Age'].isna()].index\n",
      "C:\\Users\\wuron\\AppData\\Local\\Temp\\ipykernel_20016\\4194361286.py:5: UserWarning: Boolean Series key will be reindexed to match DataFrame index.\n",
      "  idxAgeMars = df_test[df_test['HomePlanet']=='Mars'][df_test['Age'].isna()].index\n"
     ]
    }
   ],
   "source": [
    "# test - Age\n",
    "\n",
    "idxAgeEarth = df_test[df_test['HomePlanet']=='Earth'][df_test['Age'].isna()].index\n",
    "idxAgeEuropa = df_test[df_test['HomePlanet']=='Europa'][df_test['Age'].isna()].index\n",
    "idxAgeMars = df_test[df_test['HomePlanet']=='Mars'][df_test['Age'].isna()].index\n",
    "df_test.loc[idxAgeEarth,['Age']] = int(np.floor(ageEarth))\n",
    "df_test.loc[idxAgeEuropa,['Age']] = int(np.floor(ageEuropa))\n",
    "df_test.loc[idxAgeMars,['Age']] = int(np.floor(ageMars))"
   ]
  },
  {
   "cell_type": "code",
   "execution_count": 44,
   "metadata": {},
   "outputs": [
    {
     "name": "stderr",
     "output_type": "stream",
     "text": [
      "C:\\Users\\wuron\\AppData\\Local\\Temp\\ipykernel_20016\\1243641460.py:3: UserWarning: Boolean Series key will be reindexed to match DataFrame index.\n",
      "  idxEarth = df_test[df_test['HomePlanet']=='Earth'][df_test['deck'].isna()].index\n",
      "C:\\Users\\wuron\\AppData\\Local\\Temp\\ipykernel_20016\\1243641460.py:5: UserWarning: Boolean Series key will be reindexed to match DataFrame index.\n",
      "  idxEuropa = df_test[df_test['HomePlanet']=='Europa'][df_test['deck'].isna()].index\n",
      "C:\\Users\\wuron\\AppData\\Local\\Temp\\ipykernel_20016\\1243641460.py:7: UserWarning: Boolean Series key will be reindexed to match DataFrame index.\n",
      "  idxMars = df_test[df_test['HomePlanet']=='Mars'][df_test['deck'].isna()].index\n"
     ]
    }
   ],
   "source": [
    "# test - deck\n",
    "\n",
    "idxEarth = df_test[df_test['HomePlanet']=='Earth'][df_test['deck'].isna()].index\n",
    "df_test.loc[idxEarth,['deck']] = 'G'\n",
    "idxEuropa = df_test[df_test['HomePlanet']=='Europa'][df_test['deck'].isna()].index\n",
    "df_test.loc[idxEuropa,['deck']] = 'B'\n",
    "idxMars = df_test[df_test['HomePlanet']=='Mars'][df_test['deck'].isna()].index\n",
    "df_test.loc[idxMars,['deck']] = 'F'\n",
    "\n",
    "# idxEarthBelow26 = df_test[df_test['HomePlanet']=='Earth'][df_test['Age']<=26][df_test['deck'].isna()].index\n",
    "# df_test.loc[idxEarthBelow26,['deck']] = 'G'\n",
    "# idxEarthAbove26 = df_test[df_test['HomePlanet']=='Earth'][df_test['Age']>26][df_test['deck'].isna()].index\n",
    "# df_test.loc[idxEarthAbove26,['deck']] = 'F'\n",
    "# idxEuropaAbove500 = df_test[df_test['HomePlanet']=='Europa'][df_test['VRDeck']>500][df_test['deck'].isna()].index\n",
    "# df_test.loc[idxEuropaAbove500,['deck']] = 'B' # could be A,B or C\n",
    "# idxEuropaBelow500 = df_test[df_test['HomePlanet']=='Europa'][df_test['VRDeck']<=500][df_test['deck'].isna()].index\n",
    "# df_test.loc[idxEuropaBelow500,['deck']] = 'E' # could be D or E\n",
    "# idxMarsAbove30 = df_test[df_test['HomePlanet']=='Mars'][df_test['Age']>=30][df_test['deck'].isna()].index\n",
    "# df_test.loc[idxMarsAbove30,['deck']] = 'D'\n",
    "# idxMarsBelow30 = df_test[df_test['HomePlanet']=='Mars'][df_test['Age']<30][df_test['deck'].isna()].index\n",
    "# df_test.loc[idxMarsBelow30,['deck']] = 'F'"
   ]
  },
  {
   "cell_type": "code",
   "execution_count": 45,
   "metadata": {},
   "outputs": [
    {
     "name": "stderr",
     "output_type": "stream",
     "text": [
      "C:\\Users\\wuron\\AppData\\Local\\Temp\\ipykernel_20016\\3715169118.py:3: UserWarning: Boolean Series key will be reindexed to match DataFrame index.\n",
      "  idxSideP = df_test[df_test['deck'].isin(['A','B','C','E','G'])][df_test['side'].isna()].index\n",
      "C:\\Users\\wuron\\AppData\\Local\\Temp\\ipykernel_20016\\3715169118.py:5: UserWarning: Boolean Series key will be reindexed to match DataFrame index.\n",
      "  idxSideS = df_test[df_test['deck'].isin(['D','F','T'])][df_test['side'].isna()].index\n"
     ]
    }
   ],
   "source": [
    "# test - side\n",
    "\n",
    "idxSideP = df_test[df_test['deck'].isin(['A','B','C','E','G'])][df_test['side'].isna()].index\n",
    "df_test.loc[idxSideP,['side']] = 'P'\n",
    "idxSideS = df_test[df_test['deck'].isin(['D','F','T'])][df_test['side'].isna()].index\n",
    "df_test.loc[idxSideS,['side']] = 'S'"
   ]
  },
  {
   "cell_type": "code",
   "execution_count": 46,
   "metadata": {},
   "outputs": [],
   "source": [
    "# test\n",
    "\n",
    "# df_test['isPort'] = [1 if i=='P' else 0 for i in df_test['side']]\n",
    "# df_test['isVIP'] = [1 if i=='True' else 0 for i in df_test['VIP']]\n",
    "# df_test['isCryoSleep'] = [1 if i=='True' else 0 for i in df_test['CryoSleep']]\n",
    "\n",
    "df_test['isPort'] = [1 if i=='P' else 0 for i in df_test['side']]\n",
    "df_test['isVIP'] = [1 if i=='True' else 0 for i in df_test['VIP']]\n",
    "df_test['isCryoSleep'] = [1 if i=='True' else 0 for i in df_test['CryoSleep']]\n",
    "df_test['fromEuropa'] = [1 if i=='Europa' else 0 for i in df_test['HomePlanet']]\n",
    "df_test['to55'] = [1 if i=='55 Cancri e' else 0 for i in df_test['Destination']]\n",
    "df_test['SPA200'] = [1 if i>=200 else 0 for i in df_test['Spa']]"
   ]
  },
  {
   "cell_type": "code",
   "execution_count": 47,
   "metadata": {},
   "outputs": [],
   "source": [
    "# test\n",
    "\n",
    "df_test_drop=df_test.drop(columns=['side', 'VIP', 'CryoSleep'])\n",
    "\n",
    "# remove insignificant columns\n",
    "\n",
    "# df_test_drop = df_test_drop.drop(columns=['FoodCourt', 'ShoppingMall', 'Spa'])"
   ]
  },
  {
   "cell_type": "code",
   "execution_count": 48,
   "metadata": {},
   "outputs": [],
   "source": [
    "enc = OneHotEncoder(handle_unknown='ignore')\n",
    "enc.fit(np.array(df_test_drop['Destination']).reshape(-1, 1))\n",
    "df_test_drop[['Destination_0','Destination_1','Destination_2']] = enc.transform(np.array(df_test_drop['Destination']).reshape(-1, 1)).toarray()\n",
    "\n",
    "enc = OneHotEncoder(handle_unknown='ignore')\n",
    "enc.fit(np.array(df_test_drop['HomePlanet']).reshape(-1, 1))\n",
    "df_test_drop[['HomePlanet_0','HomePlanet_1','HomePlanet_2']] = enc.transform(np.array(df_test_drop['HomePlanet']).reshape(-1, 1)).toarray()\n",
    "\n",
    "enc = OneHotEncoder(handle_unknown='ignore')\n",
    "enc.fit(np.array(df_test_drop['deck']).reshape(-1, 1))\n",
    "df_test_drop[['deck_0','deck_1','deck_2','deck_3','deck_4','deck_5','deck_6','deck_7']] = enc.transform(np.array(df_test_drop['deck']).reshape(-1, 1)).toarray()"
   ]
  },
  {
   "cell_type": "code",
   "execution_count": 49,
   "metadata": {},
   "outputs": [],
   "source": [
    "df_test_drop = df_test_drop.drop(columns=['Destination', 'HomePlanet', 'deck'])"
   ]
  },
  {
   "cell_type": "code",
   "execution_count": 50,
   "metadata": {},
   "outputs": [],
   "source": [
    "test_pred = RFC.predict(df_test_drop)\n",
    "rs = [True if i==1 else False for i in test_pred]\n",
    "# rs = best_.predict(df_test_drop)"
   ]
  },
  {
   "cell_type": "code",
   "execution_count": 51,
   "metadata": {},
   "outputs": [],
   "source": [
    "submission = pd.DataFrame()\n",
    "submission['PassengerId'] = psgid\n",
    "submission['Transported'] = rs\n",
    "submission.to_csv('submission_valid.csv',index=False)"
   ]
  },
  {
   "cell_type": "code",
   "execution_count": 52,
   "metadata": {},
   "outputs": [
    {
     "data": {
      "text/html": [
       "<div>\n",
       "<style scoped>\n",
       "    .dataframe tbody tr th:only-of-type {\n",
       "        vertical-align: middle;\n",
       "    }\n",
       "\n",
       "    .dataframe tbody tr th {\n",
       "        vertical-align: top;\n",
       "    }\n",
       "\n",
       "    .dataframe thead th {\n",
       "        text-align: right;\n",
       "    }\n",
       "</style>\n",
       "<table border=\"1\" class=\"dataframe\">\n",
       "  <thead>\n",
       "    <tr style=\"text-align: right;\">\n",
       "      <th></th>\n",
       "      <th>PassengerId</th>\n",
       "      <th>Transported</th>\n",
       "    </tr>\n",
       "  </thead>\n",
       "  <tbody>\n",
       "    <tr>\n",
       "      <th>0</th>\n",
       "      <td>0013_01</td>\n",
       "      <td>True</td>\n",
       "    </tr>\n",
       "    <tr>\n",
       "      <th>1</th>\n",
       "      <td>0018_01</td>\n",
       "      <td>False</td>\n",
       "    </tr>\n",
       "    <tr>\n",
       "      <th>2</th>\n",
       "      <td>0019_01</td>\n",
       "      <td>True</td>\n",
       "    </tr>\n",
       "    <tr>\n",
       "      <th>3</th>\n",
       "      <td>0021_01</td>\n",
       "      <td>True</td>\n",
       "    </tr>\n",
       "    <tr>\n",
       "      <th>4</th>\n",
       "      <td>0023_01</td>\n",
       "      <td>True</td>\n",
       "    </tr>\n",
       "    <tr>\n",
       "      <th>...</th>\n",
       "      <td>...</td>\n",
       "      <td>...</td>\n",
       "    </tr>\n",
       "    <tr>\n",
       "      <th>4272</th>\n",
       "      <td>9266_02</td>\n",
       "      <td>True</td>\n",
       "    </tr>\n",
       "    <tr>\n",
       "      <th>4273</th>\n",
       "      <td>9269_01</td>\n",
       "      <td>False</td>\n",
       "    </tr>\n",
       "    <tr>\n",
       "      <th>4274</th>\n",
       "      <td>9271_01</td>\n",
       "      <td>True</td>\n",
       "    </tr>\n",
       "    <tr>\n",
       "      <th>4275</th>\n",
       "      <td>9273_01</td>\n",
       "      <td>True</td>\n",
       "    </tr>\n",
       "    <tr>\n",
       "      <th>4276</th>\n",
       "      <td>9277_01</td>\n",
       "      <td>True</td>\n",
       "    </tr>\n",
       "  </tbody>\n",
       "</table>\n",
       "<p>4277 rows × 2 columns</p>\n",
       "</div>"
      ],
      "text/plain": [
       "     PassengerId  Transported\n",
       "0        0013_01         True\n",
       "1        0018_01        False\n",
       "2        0019_01         True\n",
       "3        0021_01         True\n",
       "4        0023_01         True\n",
       "...          ...          ...\n",
       "4272     9266_02         True\n",
       "4273     9269_01        False\n",
       "4274     9271_01         True\n",
       "4275     9273_01         True\n",
       "4276     9277_01         True\n",
       "\n",
       "[4277 rows x 2 columns]"
      ]
     },
     "execution_count": 52,
     "metadata": {},
     "output_type": "execute_result"
    }
   ],
   "source": [
    "submission"
   ]
  },
  {
   "cell_type": "code",
   "execution_count": null,
   "metadata": {},
   "outputs": [],
   "source": []
  }
 ],
 "metadata": {
  "kernelspec": {
   "display_name": "Python 3 (ipykernel)",
   "language": "python",
   "name": "python3"
  },
  "language_info": {
   "codemirror_mode": {
    "name": "ipython",
    "version": 3
   },
   "file_extension": ".py",
   "mimetype": "text/x-python",
   "name": "python",
   "nbconvert_exporter": "python",
   "pygments_lexer": "ipython3",
   "version": "3.10.9"
  }
 },
 "nbformat": 4,
 "nbformat_minor": 4
}
